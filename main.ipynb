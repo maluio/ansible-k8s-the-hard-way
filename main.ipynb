{
 "cells": [
  {
   "cell_type": "code",
   "execution_count": 1,
   "id": "1463dac8-cf38-4f4a-8e5f-bfd965c0d180",
   "metadata": {},
   "outputs": [],
   "source": [
    "# ! ansible-inventory --list"
   ]
  },
  {
   "cell_type": "code",
   "execution_count": 2,
   "id": "dfcd4cdf-b0fa-4dee-8174-9329a88931dc",
   "metadata": {},
   "outputs": [
    {
     "name": "stdout",
     "output_type": "stream",
     "text": [
      "\u001b[1;35m[WARNING]: provided hosts list is empty, only localhost is available. Note that\u001b[0m\n",
      "\u001b[1;35mthe implicit localhost does not match 'all'\u001b[0m\n",
      "\n",
      "PLAY [Create servers] **********************************************************\n",
      "\n",
      "TASK [Gathering Facts] *********************************************************\n",
      "\u001b[0;32mok: [localhost]\u001b[0m\n",
      "\n",
      "TASK [ansible.builtin.file] ****************************************************\n",
      "\u001b[0;33mchanged: [localhost]\u001b[0m\n",
      "\n",
      "TASK [Generate an OpenSSH keypair with the default values (4096 bits, rsa)] ****\n",
      "\u001b[0;33mchanged: [localhost]\u001b[0m\n",
      "\n",
      "TASK [Remove ssh_key] **********************************************************\n",
      "\u001b[0;32mok: [localhost]\u001b[0m\n",
      "\n",
      "TASK [Add new ssh_key] *********************************************************\n",
      "\u001b[0;33mchanged: [localhost]\u001b[0m\n",
      "\n",
      "TASK [Create servers] **********************************************************\n",
      "\u001b[0;33mchanged: [localhost] => (item=controller-0)\u001b[0m\n",
      "\u001b[0;33mchanged: [localhost] => (item=controller-1)\u001b[0m\n",
      "\u001b[0;33mchanged: [localhost] => (item=controller-2)\u001b[0m\n",
      "\u001b[0;33mchanged: [localhost] => (item=worker-0)\u001b[0m\n",
      "\u001b[0;33mchanged: [localhost] => (item=worker-1)\u001b[0m\n",
      "\u001b[0;33mchanged: [localhost] => (item=worker-2)\u001b[0m\n",
      "\n",
      "PLAY RECAP *********************************************************************\n",
      "\u001b[0;33mlocalhost\u001b[0m                  : \u001b[0;32mok=6   \u001b[0m \u001b[0;33mchanged=4   \u001b[0m unreachable=0    failed=0    skipped=0    rescued=0    ignored=0   \n",
      "\n"
     ]
    }
   ],
   "source": [
    "! ansible-playbook playbooks/server/create.yml"
   ]
  },
  {
   "cell_type": "code",
   "execution_count": 3,
   "id": "547586e0-ee1a-43e1-9928-153489996dfa",
   "metadata": {},
   "outputs": [
    {
     "name": "stdout",
     "output_type": "stream",
     "text": [
      "\n",
      "PLAY [Create ssh config] *******************************************************\n",
      "\n",
      "TASK [Gathering Facts] *********************************************************\n",
      "\u001b[0;32mok: [localhost]\u001b[0m\n",
      "\n",
      "TASK [ssh : set_fact] **********************************************************\n",
      "\u001b[0;32mok: [localhost]\u001b[0m\n",
      "\n",
      "TASK [ssh : Write ssh config file] *********************************************\n",
      "\u001b[0;33mchanged: [localhost]\u001b[0m\n",
      "\n",
      "PLAY RECAP *********************************************************************\n",
      "\u001b[0;33mlocalhost\u001b[0m                  : \u001b[0;32mok=3   \u001b[0m \u001b[0;33mchanged=1   \u001b[0m unreachable=0    failed=0    skipped=0    rescued=0    ignored=0   \n",
      "\n"
     ]
    }
   ],
   "source": [
    "! ansible-playbook playbooks/server/ssh.yml"
   ]
  },
  {
   "cell_type": "markdown",
   "id": "c46426e3-3086-45d7-8b78-0284860fa22e",
   "metadata": {},
   "source": [
    "## Provisioning a CA and Generating TLS Certificates\n",
    "[Provisioning a CA and Generating TLS Certificates](https://github.com/kelseyhightower/kubernetes-the-hard-way/blob/master/docs/04-certificate-authority.md#provisioning-a-ca-and-generating-tls-certificates)"
   ]
  },
  {
   "cell_type": "code",
   "execution_count": 4,
   "id": "42f61fd2-03e1-4f27-8c20-6aae0ea13be5",
   "metadata": {},
   "outputs": [
    {
     "name": "stdout",
     "output_type": "stream",
     "text": [
      "\n",
      "PLAY [Provision k8s cluster] ***************************************************\n",
      "\n",
      "TASK [Gathering Facts] *********************************************************\n",
      "\u001b[0;32mok: [controller-0]\u001b[0m\n",
      "\n",
      "TASK [certs : Install cfssl] ***************************************************\n",
      "\u001b[0;33mchanged: [controller-0]\u001b[0m\n",
      "\n",
      "TASK [certs : Install cfssljson] ***********************************************\n",
      "\u001b[0;33mchanged: [controller-0]\u001b[0m\n",
      "\n",
      "TASK [certs : Create certs dir] ************************************************\n",
      "\u001b[0;33mchanged: [controller-0]\u001b[0m\n",
      "\n",
      "TASK [certs : Copy cfssl template files] ***************************************\n",
      "\u001b[0;33mchanged: [controller-0] => (item=ca-config.json)\u001b[0m\n",
      "\u001b[0;33mchanged: [controller-0] => (item=ca-csr.json)\u001b[0m\n",
      "\u001b[0;33mchanged: [controller-0] => (item=admin-csr.json)\u001b[0m\n",
      "\u001b[0;33mchanged: [controller-0] => (item=kube-controller-manager-csr.json)\u001b[0m\n",
      "\u001b[0;33mchanged: [controller-0] => (item=kube-scheduler-csr.json)\u001b[0m\n",
      "\u001b[0;33mchanged: [controller-0] => (item=kube-proxy-csr.json)\u001b[0m\n",
      "\u001b[0;33mchanged: [controller-0] => (item=kubernetes-csr.json)\u001b[0m\n",
      "\u001b[0;33mchanged: [controller-0] => (item=service-account-csr.json)\u001b[0m\n",
      "\n",
      "TASK [certs : Generate the CA configuration file, certificate, and private key] ***\n",
      "\u001b[0;33mchanged: [controller-0]\u001b[0m\n",
      "\n",
      "TASK [certs : Generate the admin client certificate and private key] ***********\n",
      "\u001b[0;33mchanged: [controller-0]\u001b[0m\n",
      "\n",
      "TASK [certs : Generate the kube-controller-manager client certificate and private key] ***\n",
      "\u001b[0;33mchanged: [controller-0]\u001b[0m\n",
      "\n",
      "TASK [certs : Generate the kube-proxy client certificate and private key] ******\n",
      "\u001b[0;33mchanged: [controller-0]\u001b[0m\n",
      "\n",
      "TASK [certs : Generate the kube-scheduler client certificate and private key] ***\n",
      "\u001b[0;33mchanged: [controller-0]\u001b[0m\n",
      "\n",
      "TASK [certs : set_fact] ********************************************************\n",
      "\u001b[0;32mok: [controller-0]\u001b[0m\n",
      "\n",
      "TASK [certs : set_fact] ********************************************************\n",
      "\u001b[0;32mok: [controller-0]\u001b[0m\n",
      "\n",
      "TASK [certs : Generate the Kubernetes API Server certificate and private key] ***\n",
      "\u001b[0;33mchanged: [controller-0]\u001b[0m\n",
      "\n",
      "TASK [certs : Generate the service-account certificate and private key] ********\n",
      "\u001b[0;33mchanged: [controller-0]\u001b[0m\n",
      "\n",
      "TASK [certs : Copy cfssl worker files] *****************************************\n",
      "\u001b[0;33mchanged: [controller-0] => (item=worker-0)\u001b[0m\n",
      "\u001b[0;33mchanged: [controller-0] => (item=worker-1)\u001b[0m\n",
      "\u001b[0;33mchanged: [controller-0] => (item=worker-2)\u001b[0m\n",
      "\n",
      "TASK [certs : Generate a certificate and private key for each Kubernetes worker node] ***\n",
      "\u001b[0;33mchanged: [controller-0] => (item=worker-0)\u001b[0m\n",
      "\u001b[0;33mchanged: [controller-0] => (item=worker-1)\u001b[0m\n",
      "\u001b[0;33mchanged: [controller-0] => (item=worker-2)\u001b[0m\n",
      "\n",
      "TASK [kubeconfig : set_fact] ***************************************************\n",
      "\u001b[0;32mok: [controller-0]\u001b[0m\n",
      "\n",
      "TASK [kubeconfig : Install kubctl] *********************************************\n",
      "\u001b[0;33mchanged: [controller-0]\u001b[0m\n",
      "\n",
      "TASK [kubeconfig : Generate a kubeconfig file for each worker node] ************\n",
      "\u001b[0;33mchanged: [controller-0]\u001b[0m\n",
      "\n",
      "TASK [kubeconfig : Generate a kubeconfig file for the kube-proxy service] ******\n",
      "\u001b[0;33mchanged: [controller-0]\u001b[0m\n",
      "\n",
      "TASK [kubeconfig : Generate a kubeconfig file for the kube-controller-manager service] ***\n",
      "\u001b[0;33mchanged: [controller-0]\u001b[0m\n",
      "\n",
      "TASK [kubeconfig : Generate a kubeconfig file for the kube-scheduler service] ***\n",
      "\u001b[0;33mchanged: [controller-0]\u001b[0m\n",
      "\n",
      "TASK [kubeconfig : Generate a kubeconfig file for the admin user] **************\n",
      "\u001b[0;33mchanged: [controller-0]\u001b[0m\n",
      "\n",
      "PLAY RECAP *********************************************************************\n",
      "\u001b[0;33mcontroller-0\u001b[0m               : \u001b[0;32mok=23  \u001b[0m \u001b[0;33mchanged=19  \u001b[0m unreachable=0    failed=0    skipped=0    rescued=0    ignored=0   \n",
      "\n"
     ]
    }
   ],
   "source": [
    "! ansible-playbook playbooks/provision.yml"
   ]
  },
  {
   "cell_type": "code",
   "execution_count": 5,
   "id": "c9084eb2-ac2a-47e9-8205-2f822d19ed84",
   "metadata": {},
   "outputs": [
    {
     "name": "stdout",
     "output_type": "stream",
     "text": [
      "\n",
      "PLAY [Fetch files] *************************************************************\n",
      "\n",
      "TASK [Gathering Facts] *********************************************************\n",
      "\u001b[0;32mok: [controller-0]\u001b[0m\n",
      "\n",
      "TASK [Download certs and kubeconfigs to local machine] *************************\n",
      "\u001b[0;33mchanged: [controller-0]\u001b[0m\n",
      "\n",
      "PLAY [Distribute certs to worker] **********************************************\n",
      "\n",
      "TASK [Gathering Facts] *********************************************************\n",
      "\u001b[0;32mok: [worker-0]\u001b[0m\n",
      "\u001b[0;32mok: [worker-2]\u001b[0m\n",
      "\u001b[0;32mok: [worker-1]\u001b[0m\n",
      "\n",
      "TASK [Copy worker certs and kubeconfigs] ***************************************\n",
      "\u001b[0;33mchanged: [worker-0] => (item=-key.pem)\u001b[0m\n",
      "\u001b[0;33mchanged: [worker-2] => (item=-key.pem)\u001b[0m\n",
      "\u001b[0;33mchanged: [worker-1] => (item=-key.pem)\u001b[0m\n",
      "\u001b[0;33mchanged: [worker-2] => (item=.pem)\u001b[0m\n",
      "\u001b[0;33mchanged: [worker-0] => (item=.pem)\u001b[0m\n",
      "\u001b[0;33mchanged: [worker-1] => (item=.pem)\u001b[0m\n",
      "\u001b[0;33mchanged: [worker-0] => (item=.kubeconfig)\u001b[0m\n",
      "\u001b[0;33mchanged: [worker-2] => (item=.kubeconfig)\u001b[0m\n",
      "\u001b[0;33mchanged: [worker-1] => (item=.kubeconfig)\u001b[0m\n",
      "\n",
      "TASK [Copy ca.pem] *************************************************************\n",
      "\u001b[0;33mchanged: [worker-0] => (item=ca.pem)\u001b[0m\n",
      "\u001b[0;33mchanged: [worker-1] => (item=ca.pem)\u001b[0m\n",
      "\u001b[0;33mchanged: [worker-2] => (item=ca.pem)\u001b[0m\n",
      "\u001b[0;33mchanged: [worker-0] => (item=kube-proxy.kubeconfig)\u001b[0m\n",
      "\u001b[0;33mchanged: [worker-1] => (item=kube-proxy.kubeconfig)\u001b[0m\n",
      "\u001b[0;33mchanged: [worker-2] => (item=kube-proxy.kubeconfig)\u001b[0m\n",
      "\n",
      "PLAY [Distribute certs to controller] ******************************************\n",
      "\n",
      "TASK [Gathering Facts] *********************************************************\n",
      "\u001b[0;32mok: [controller-0]\u001b[0m\n",
      "\u001b[0;32mok: [controller-1]\u001b[0m\n",
      "\u001b[0;32mok: [controller-2]\u001b[0m\n",
      "\n",
      "TASK [encryption : Create the encryption-config.yaml encryption config file] ***\n",
      "\u001b[0;33mchanged: [controller-2]\u001b[0m\n",
      "\u001b[0;33mchanged: [controller-0]\u001b[0m\n",
      "\u001b[0;33mchanged: [controller-1]\u001b[0m\n",
      "\n",
      "TASK [Copy pems] ***************************************************************\n",
      "\u001b[0;33mchanged: [controller-1] => (item=ca.pem)\u001b[0m\n",
      "\u001b[0;33mchanged: [controller-2] => (item=ca.pem)\u001b[0m\n",
      "\u001b[0;33mchanged: [controller-0] => (item=ca.pem)\u001b[0m\n",
      "\u001b[0;33mchanged: [controller-2] => (item=ca-key.pem)\u001b[0m\n",
      "\u001b[0;33mchanged: [controller-1] => (item=ca-key.pem)\u001b[0m\n",
      "\u001b[0;33mchanged: [controller-0] => (item=ca-key.pem)\u001b[0m\n",
      "\u001b[0;33mchanged: [controller-2] => (item=kubernetes-key.pem)\u001b[0m\n",
      "\u001b[0;33mchanged: [controller-1] => (item=kubernetes-key.pem)\u001b[0m\n",
      "\u001b[0;33mchanged: [controller-0] => (item=kubernetes-key.pem)\u001b[0m\n",
      "\u001b[0;33mchanged: [controller-2] => (item=kubernetes.pem)\u001b[0m\n",
      "\u001b[0;33mchanged: [controller-1] => (item=kubernetes.pem)\u001b[0m\n",
      "\u001b[0;33mchanged: [controller-0] => (item=kubernetes.pem)\u001b[0m\n",
      "\u001b[0;33mchanged: [controller-2] => (item=service-account-key.pem)\u001b[0m\n",
      "\u001b[0;33mchanged: [controller-1] => (item=service-account-key.pem)\u001b[0m\n",
      "\u001b[0;33mchanged: [controller-0] => (item=service-account-key.pem)\u001b[0m\n",
      "\u001b[0;33mchanged: [controller-2] => (item=service-account.pem)\u001b[0m\n",
      "\u001b[0;33mchanged: [controller-1] => (item=service-account.pem)\u001b[0m\n",
      "\u001b[0;33mchanged: [controller-0] => (item=service-account.pem)\u001b[0m\n",
      "\u001b[0;33mchanged: [controller-2] => (item=admin.kubeconfig)\u001b[0m\n",
      "\u001b[0;33mchanged: [controller-1] => (item=admin.kubeconfig)\u001b[0m\n",
      "\u001b[0;33mchanged: [controller-0] => (item=admin.kubeconfig)\u001b[0m\n",
      "\u001b[0;33mchanged: [controller-2] => (item=kube-controller-manager.kubeconfig)\u001b[0m\n",
      "\u001b[0;33mchanged: [controller-1] => (item=kube-controller-manager.kubeconfig)\u001b[0m\n",
      "\u001b[0;33mchanged: [controller-0] => (item=kube-controller-manager.kubeconfig)\u001b[0m\n",
      "\u001b[0;33mchanged: [controller-2] => (item=kube-scheduler.kubeconfig)\u001b[0m\n",
      "\u001b[0;33mchanged: [controller-1] => (item=kube-scheduler.kubeconfig)\u001b[0m\n",
      "\u001b[0;33mchanged: [controller-0] => (item=kube-scheduler.kubeconfig)\u001b[0m\n",
      "\u001b[0;33mchanged: [controller-2] => (item=kube-scheduler.pem)\u001b[0m\n",
      "\u001b[0;33mchanged: [controller-1] => (item=kube-scheduler.pem)\u001b[0m\n",
      "\u001b[0;33mchanged: [controller-0] => (item=kube-scheduler.pem)\u001b[0m\n",
      "\u001b[0;33mchanged: [controller-2] => (item=kube-scheduler-key.pem)\u001b[0m\n",
      "\u001b[0;33mchanged: [controller-1] => (item=kube-scheduler-key.pem)\u001b[0m\n",
      "\u001b[0;33mchanged: [controller-0] => (item=kube-scheduler-key.pem)\u001b[0m\n",
      "\n",
      "PLAY RECAP *********************************************************************\n",
      "\u001b[0;33mcontroller-0\u001b[0m               : \u001b[0;32mok=5   \u001b[0m \u001b[0;33mchanged=3   \u001b[0m unreachable=0    failed=0    skipped=0    rescued=0    ignored=0   \n",
      "\u001b[0;33mcontroller-1\u001b[0m               : \u001b[0;32mok=3   \u001b[0m \u001b[0;33mchanged=2   \u001b[0m unreachable=0    failed=0    skipped=0    rescued=0    ignored=0   \n",
      "\u001b[0;33mcontroller-2\u001b[0m               : \u001b[0;32mok=3   \u001b[0m \u001b[0;33mchanged=2   \u001b[0m unreachable=0    failed=0    skipped=0    rescued=0    ignored=0   \n",
      "\u001b[0;33mworker-0\u001b[0m                   : \u001b[0;32mok=3   \u001b[0m \u001b[0;33mchanged=2   \u001b[0m unreachable=0    failed=0    skipped=0    rescued=0    ignored=0   \n",
      "\u001b[0;33mworker-1\u001b[0m                   : \u001b[0;32mok=3   \u001b[0m \u001b[0;33mchanged=2   \u001b[0m unreachable=0    failed=0    skipped=0    rescued=0    ignored=0   \n",
      "\u001b[0;33mworker-2\u001b[0m                   : \u001b[0;32mok=3   \u001b[0m \u001b[0;33mchanged=2   \u001b[0m unreachable=0    failed=0    skipped=0    rescued=0    ignored=0   \n",
      "\n"
     ]
    }
   ],
   "source": [
    "! ansible-playbook playbooks/distribute.yml"
   ]
  },
  {
   "cell_type": "code",
   "execution_count": 6,
   "id": "5276f03d-b71e-4ba6-a53e-316b384400f0",
   "metadata": {},
   "outputs": [
    {
     "name": "stdout",
     "output_type": "stream",
     "text": [
      "\n",
      "PLAY [Deploy to controllers] ***************************************************\n",
      "\n",
      "TASK [Gathering Facts] *********************************************************\n",
      "\u001b[0;32mok: [controller-2]\u001b[0m\n",
      "\u001b[0;32mok: [controller-0]\u001b[0m\n",
      "\u001b[0;32mok: [controller-1]\u001b[0m\n",
      "\n",
      "TASK [etcd : Fetch etcd binaries] **********************************************\n",
      "\u001b[0;33mchanged: [controller-0]\u001b[0m\n",
      "\u001b[0;33mchanged: [controller-1]\u001b[0m\n",
      "\u001b[0;33mchanged: [controller-2]\u001b[0m\n",
      "\n",
      "TASK [etcd : Install etcd binaries] ********************************************\n",
      "\u001b[0;33mchanged: [controller-1] => (item=etcd)\u001b[0m\n",
      "\u001b[0;33mchanged: [controller-2] => (item=etcd)\u001b[0m\n",
      "\u001b[0;33mchanged: [controller-0] => (item=etcd)\u001b[0m\n",
      "\u001b[0;33mchanged: [controller-1] => (item=etcdctl)\u001b[0m\n",
      "\u001b[0;33mchanged: [controller-2] => (item=etcdctl)\u001b[0m\n",
      "\u001b[0;33mchanged: [controller-0] => (item=etcdctl)\u001b[0m\n",
      "\n",
      "TASK [etcd : ansible.builtin.shell] ********************************************\n",
      "\u001b[0;33mchanged: [controller-2]\u001b[0m\n",
      "\u001b[0;33mchanged: [controller-1]\u001b[0m\n",
      "\u001b[0;33mchanged: [controller-0]\u001b[0m\n",
      "\n",
      "TASK [etcd : set_fact] *********************************************************\n",
      "\u001b[0;32mok: [controller-0]\u001b[0m\n",
      "\u001b[0;32mok: [controller-1]\u001b[0m\n",
      "\u001b[0;32mok: [controller-2]\u001b[0m\n",
      "\n",
      "TASK [etcd : Upload etcd service file] *****************************************\n",
      "\u001b[0;33mchanged: [controller-2]\u001b[0m\n",
      "\u001b[0;33mchanged: [controller-1]\u001b[0m\n",
      "\u001b[0;33mchanged: [controller-0]\u001b[0m\n",
      "\n",
      "TASK [etcd : Start etcd service] ***********************************************\n",
      "\u001b[0;33mchanged: [controller-0]\u001b[0m\n",
      "\u001b[0;33mchanged: [controller-2]\u001b[0m\n",
      "\u001b[0;33mchanged: [controller-1]\u001b[0m\n",
      "\n",
      "PLAY [Deploy to controller 0] **************************************************\n",
      "\n",
      "TASK [Gathering Facts] *********************************************************\n",
      "\u001b[0;32mok: [controller-0]\u001b[0m\n",
      "\n",
      "PLAY [Deploy to workers] *******************************************************\n",
      "\n",
      "TASK [Gathering Facts] *********************************************************\n",
      "\u001b[0;32mok: [worker-0]\u001b[0m\n",
      "\u001b[0;32mok: [worker-1]\u001b[0m\n",
      "\u001b[0;32mok: [worker-2]\u001b[0m\n",
      "\n",
      "PLAY RECAP *********************************************************************\n",
      "\u001b[0;33mcontroller-0\u001b[0m               : \u001b[0;32mok=8   \u001b[0m \u001b[0;33mchanged=5   \u001b[0m unreachable=0    failed=0    skipped=0    rescued=0    ignored=0   \n",
      "\u001b[0;33mcontroller-1\u001b[0m               : \u001b[0;32mok=7   \u001b[0m \u001b[0;33mchanged=5   \u001b[0m unreachable=0    failed=0    skipped=0    rescued=0    ignored=0   \n",
      "\u001b[0;33mcontroller-2\u001b[0m               : \u001b[0;32mok=7   \u001b[0m \u001b[0;33mchanged=5   \u001b[0m unreachable=0    failed=0    skipped=0    rescued=0    ignored=0   \n",
      "\u001b[0;32mworker-0\u001b[0m                   : \u001b[0;32mok=1   \u001b[0m changed=0    unreachable=0    failed=0    skipped=0    rescued=0    ignored=0   \n",
      "\u001b[0;32mworker-1\u001b[0m                   : \u001b[0;32mok=1   \u001b[0m changed=0    unreachable=0    failed=0    skipped=0    rescued=0    ignored=0   \n",
      "\u001b[0;32mworker-2\u001b[0m                   : \u001b[0;32mok=1   \u001b[0m changed=0    unreachable=0    failed=0    skipped=0    rescued=0    ignored=0   \n",
      "\n"
     ]
    }
   ],
   "source": [
    "! ansible-playbook playbooks/bootstrap.yml --tags=etcd"
   ]
  },
  {
   "cell_type": "code",
   "execution_count": 7,
   "id": "e9777f27-187d-4677-85a6-dac463ed8307",
   "metadata": {},
   "outputs": [
    {
     "name": "stdout",
     "output_type": "stream",
     "text": [
      "\u001b[0;33mcontroller-0 | CHANGED | rc=0 >>\u001b[0m\n",
      "\u001b[0;33m274046df03c6ae53, started, controller-0, https://xxx.xxx.67.57:2380, https://xxx.xxx.67.57:2379, false\u001b[0m\n",
      "\u001b[0;33m48f67b44febe0ffd, started, controller-2, https://xxx.xxx.118.255:2380, https://xxx.xxx.118.255:2379, false\u001b[0m\n",
      "\u001b[0;33m714bcb2ef90babee, started, controller-1, https://xxx.xxx.175.63:2380, https://xxx.xxx.175.63:2379, false\u001b[0m\n"
     ]
    }
   ],
   "source": [
    "# Verify that the etcd cluster is running\n",
    "! ansible controller-0 -a 'etcdctl member list --cert=/etc/etcd/kubernetes.pem --key=/etc/etcd/kubernetes-key.pem --cacert=/etc/etcd/ca.pem'"
   ]
  },
  {
   "cell_type": "code",
   "execution_count": null,
   "id": "571cad75-de46-4c0c-a435-8643703a3b23",
   "metadata": {},
   "outputs": [],
   "source": [
    "! ansible-playbook playbooks/bootstrap.yml --tags=control-plane"
   ]
  },
  {
   "cell_type": "code",
   "execution_count": 9,
   "id": "c5d56b5f-bffa-40ae-ad15-ffc738099969",
   "metadata": {},
   "outputs": [
    {
     "name": "stdout",
     "output_type": "stream",
     "text": [
      "\u001b[0;33mcontroller-0 | CHANGED | rc=0 >>\u001b[0m\n",
      "\u001b[0;33m\u001b[0;32mKubernetes control plane\u001b[0m is running at \u001b[0;33mhttps://127.0.0.1:6443\u001b[0m\u001b[0m\n",
      "\u001b[0;33m\u001b[0m\n",
      "\u001b[0;33mTo further debug and diagnose cluster problems, use 'kubectl cluster-info dump'.\u001b[0m\n"
     ]
    }
   ],
   "source": [
    "# verification\n",
    "! ansible controller-0 -a 'kubectl cluster-info --kubeconfig admin.kubeconfig'"
   ]
  },
  {
   "cell_type": "code",
   "execution_count": 10,
   "id": "1e8fd3db-3179-497b-bb47-c1037a2587ec",
   "metadata": {},
   "outputs": [
    {
     "name": "stdout",
     "output_type": "stream",
     "text": [
      "\u001b[0;33mcontroller-0 | CHANGED | rc=0 >>\u001b[0m\n",
      "\u001b[0;33m{\u001b[0m\n",
      "\u001b[0;33m  \"major\": \"1\",\u001b[0m\n",
      "\u001b[0;33m  \"minor\": \"21\",\u001b[0m\n",
      "\u001b[0;33m  \"gitVersion\": \"v1.21.0\",\u001b[0m\n",
      "\u001b[0;33m  \"gitCommit\": \"cb303e613a121a29364f75cc67d3d580833a7479\",\u001b[0m\n",
      "\u001b[0;33m  \"gitTreeState\": \"clean\",\u001b[0m\n",
      "\u001b[0;33m  \"buildDate\": \"2021-04-08T16:25:06Z\",\u001b[0m\n",
      "\u001b[0;33m  \"goVersion\": \"go1.16.1\",\u001b[0m\n",
      "\u001b[0;33m  \"compiler\": \"gc\",\u001b[0m\n",
      "\u001b[0;33m  \"platform\": \"linux/amd64\"\u001b[0m\n",
      "\u001b[0;33m}  % Total    % Received % Xferd  Average Speed   Time    Time     Time  Current\u001b[0m\n",
      "\u001b[0;33m                                 Dload  Upload   Total   Spent    Left  Speed\u001b[0m\n",
      "100   263  100   263    0     0   8766      0 --:--:-- --:--:-- --:--:--  9068\u001b[0m\n"
     ]
    }
   ],
   "source": [
    "! ansible controller-0 -a 'curl --cacert ca.pem https://127.0.0.1:6443/version'"
   ]
  },
  {
   "cell_type": "code",
   "execution_count": 11,
   "id": "ef221723-5082-4431-8eec-395e45996e3a",
   "metadata": {},
   "outputs": [
    {
     "name": "stdout",
     "output_type": "stream",
     "text": [
      "\n",
      "PLAY [Deploy to controllers] ***************************************************\n",
      "\n",
      "TASK [Gathering Facts] *********************************************************\n",
      "\u001b[0;32mok: [controller-1]\u001b[0m\n",
      "\u001b[0;32mok: [controller-0]\u001b[0m\n",
      "\u001b[0;32mok: [controller-2]\u001b[0m\n",
      "\n",
      "PLAY [Deploy to controller 0] **************************************************\n",
      "\n",
      "TASK [Gathering Facts] *********************************************************\n",
      "\u001b[0;32mok: [controller-0]\u001b[0m\n",
      "\n",
      "TASK [rbac : Create the system:kube-apiserver-to-kubelet ClusterRole with permissions to access the Kubelet API and perform most common tasks associated with managing pods] ***\n",
      "\u001b[0;33mchanged: [controller-0]\u001b[0m\n",
      "\n",
      "TASK [rbac : Bind the system:kube-apiserver-to-kubelet ClusterRole to the kubernetes user] ***\n",
      "\u001b[0;33mchanged: [controller-0]\u001b[0m\n",
      "\n",
      "PLAY [Deploy to workers] *******************************************************\n",
      "\n",
      "TASK [Gathering Facts] *********************************************************\n",
      "\u001b[0;32mok: [worker-0]\u001b[0m\n",
      "\u001b[0;32mok: [worker-1]\u001b[0m\n",
      "\u001b[0;32mok: [worker-2]\u001b[0m\n",
      "\n",
      "PLAY RECAP *********************************************************************\n",
      "\u001b[0;33mcontroller-0\u001b[0m               : \u001b[0;32mok=4   \u001b[0m \u001b[0;33mchanged=2   \u001b[0m unreachable=0    failed=0    skipped=0    rescued=0    ignored=0   \n",
      "\u001b[0;32mcontroller-1\u001b[0m               : \u001b[0;32mok=1   \u001b[0m changed=0    unreachable=0    failed=0    skipped=0    rescued=0    ignored=0   \n",
      "\u001b[0;32mcontroller-2\u001b[0m               : \u001b[0;32mok=1   \u001b[0m changed=0    unreachable=0    failed=0    skipped=0    rescued=0    ignored=0   \n",
      "\u001b[0;32mworker-0\u001b[0m                   : \u001b[0;32mok=1   \u001b[0m changed=0    unreachable=0    failed=0    skipped=0    rescued=0    ignored=0   \n",
      "\u001b[0;32mworker-1\u001b[0m                   : \u001b[0;32mok=1   \u001b[0m changed=0    unreachable=0    failed=0    skipped=0    rescued=0    ignored=0   \n",
      "\u001b[0;32mworker-2\u001b[0m                   : \u001b[0;32mok=1   \u001b[0m changed=0    unreachable=0    failed=0    skipped=0    rescued=0    ignored=0   \n",
      "\n"
     ]
    }
   ],
   "source": [
    "! ansible-playbook playbooks/bootstrap.yml --tags=rbac"
   ]
  },
  {
   "cell_type": "code",
   "execution_count": 12,
   "id": "e7d23a1e-9fee-4465-8010-323b77cb781e",
   "metadata": {},
   "outputs": [
    {
     "name": "stdout",
     "output_type": "stream",
     "text": [
      "\u001b[0;33mcontroller-0 | CHANGED | rc=0 >>\u001b[0m\n",
      "\u001b[0;33mName:         system:kube-apiserver-to-kubelet\u001b[0m\n",
      "\u001b[0;33mLabels:       kubernetes.io/bootstrapping=rbac-defaults\u001b[0m\n",
      "\u001b[0;33mAnnotations:  rbac.authorization.kubernetes.io/autoupdate: true\u001b[0m\n",
      "\u001b[0;33mPolicyRule:\u001b[0m\n",
      "\u001b[0;33m  Resources      Non-Resource URLs  Resource Names  Verbs\u001b[0m\n",
      "\u001b[0;33m  ---------      -----------------  --------------  -----\u001b[0m\n",
      "\u001b[0;33m  nodes/log      []                 []              [*]\u001b[0m\n",
      "\u001b[0;33m  nodes/metrics  []                 []              [*]\u001b[0m\n",
      "\u001b[0;33m  nodes/proxy    []                 []              [*]\u001b[0m\n",
      "\u001b[0;33m  nodes/spec     []                 []              [*]\u001b[0m\n",
      "\u001b[0;33m  nodes/stats    []                 []              [*]\u001b[0m\n"
     ]
    }
   ],
   "source": [
    "# verification of cluster role\n",
    "! ansible controller-0 -a 'kubectl describe clusterrole system:kube-apiserver-to-kubelet --kubeconfig admin.kubeconfig'"
   ]
  },
  {
   "cell_type": "code",
   "execution_count": 13,
   "id": "aa063cc2-7bbe-4ff8-8379-000c530de431",
   "metadata": {},
   "outputs": [
    {
     "name": "stdout",
     "output_type": "stream",
     "text": [
      "\n",
      "PLAY [Deploy to controllers] ***************************************************\n",
      "\n",
      "TASK [Gathering Facts] *********************************************************\n",
      "\u001b[0;32mok: [controller-1]\u001b[0m\n",
      "\u001b[0;32mok: [controller-2]\u001b[0m\n",
      "\u001b[0;32mok: [controller-0]\u001b[0m\n",
      "\n",
      "PLAY [Deploy to controller 0] **************************************************\n",
      "\n",
      "TASK [Gathering Facts] *********************************************************\n",
      "\u001b[0;32mok: [controller-0]\u001b[0m\n",
      "\n",
      "PLAY [Deploy to workers] *******************************************************\n",
      "\n",
      "TASK [Gathering Facts] *********************************************************\n",
      "\u001b[0;32mok: [worker-1]\u001b[0m\n",
      "\u001b[0;32mok: [worker-0]\u001b[0m\n",
      "\u001b[0;32mok: [worker-2]\u001b[0m\n",
      "\n",
      "TASK [worker-nodes : Install the OS dependencies] ******************************\n",
      "\u001b[0;33mchanged: [worker-0] => (item=socat)\u001b[0m\n",
      "\u001b[0;33mchanged: [worker-2] => (item=socat)\u001b[0m\n",
      "\u001b[0;33mchanged: [worker-1] => (item=socat)\u001b[0m\n",
      "\u001b[0;33mchanged: [worker-0] => (item=conntrack)\u001b[0m\n",
      "\u001b[0;33mchanged: [worker-2] => (item=conntrack)\u001b[0m\n",
      "\u001b[0;33mchanged: [worker-1] => (item=conntrack)\u001b[0m\n",
      "\u001b[0;33mchanged: [worker-0] => (item=ipset)\u001b[0m\n",
      "\u001b[0;33mchanged: [worker-2] => (item=ipset)\u001b[0m\n",
      "\u001b[0;33mchanged: [worker-1] => (item=ipset)\u001b[0m\n",
      "\n",
      "TASK [worker-nodes : Disable swap] *********************************************\n",
      "\u001b[0;33mchanged: [worker-0]\u001b[0m\n",
      "\u001b[0;33mchanged: [worker-1]\u001b[0m\n",
      "\u001b[0;33mchanged: [worker-2]\u001b[0m\n",
      "\n",
      "TASK [worker-nodes : Create the installation directories] **********************\n",
      "\u001b[0;33mchanged: [worker-0] => (item=/etc/cni/net.d)\u001b[0m\n",
      "\u001b[0;33mchanged: [worker-1] => (item=/etc/cni/net.d)\u001b[0m\n",
      "\u001b[0;33mchanged: [worker-2] => (item=/etc/cni/net.d)\u001b[0m\n",
      "\u001b[0;33mchanged: [worker-0] => (item=/opt/cni/bin)\u001b[0m\n",
      "\u001b[0;33mchanged: [worker-1] => (item=/opt/cni/bin)\u001b[0m\n",
      "\u001b[0;33mchanged: [worker-2] => (item=/opt/cni/bin)\u001b[0m\n",
      "\u001b[0;33mchanged: [worker-0] => (item=/var/lib/kubelet)\u001b[0m\n",
      "\u001b[0;33mchanged: [worker-1] => (item=/var/lib/kubelet)\u001b[0m\n",
      "\u001b[0;33mchanged: [worker-2] => (item=/var/lib/kubelet)\u001b[0m\n",
      "\u001b[0;33mchanged: [worker-0] => (item=/var/lib/kube-proxy)\u001b[0m\n",
      "\u001b[0;33mchanged: [worker-1] => (item=/var/lib/kube-proxy)\u001b[0m\n",
      "\u001b[0;33mchanged: [worker-2] => (item=/var/lib/kube-proxy)\u001b[0m\n",
      "\u001b[0;33mchanged: [worker-0] => (item=/var/lib/kubernetes)\u001b[0m\n",
      "\u001b[0;33mchanged: [worker-1] => (item=/var/lib/kubernetes)\u001b[0m\n",
      "\u001b[0;33mchanged: [worker-2] => (item=/var/lib/kubernetes)\u001b[0m\n",
      "\u001b[0;33mchanged: [worker-0] => (item=/var/run/kubernetes)\u001b[0m\n",
      "\u001b[0;33mchanged: [worker-1] => (item=/var/run/kubernetes)\u001b[0m\n",
      "\u001b[0;33mchanged: [worker-2] => (item=/var/run/kubernetes)\u001b[0m\n",
      "\u001b[0;33mchanged: [worker-0] => (item=/etc/containerd)\u001b[0m\n",
      "\u001b[0;33mchanged: [worker-1] => (item=/etc/containerd)\u001b[0m\n",
      "\u001b[0;33mchanged: [worker-2] => (item=/etc/containerd)\u001b[0m\n",
      "\n",
      "TASK [worker-nodes : Download Worker Binaries] *********************************\n",
      "\u001b[0;33mchanged: [worker-0]\u001b[0m\n",
      "\u001b[0;33mchanged: [worker-1]\u001b[0m\n",
      "\u001b[0;33mchanged: [worker-2]\u001b[0m\n",
      "\n",
      "TASK [worker-nodes : Install Worker Binaries] **********************************\n",
      "\u001b[0;33mchanged: [worker-1]\u001b[0m\n",
      "\u001b[0;33mchanged: [worker-0]\u001b[0m\n",
      "\u001b[0;33mchanged: [worker-2]\u001b[0m\n",
      "\n",
      "TASK [worker-nodes : set_fact] *************************************************\n",
      "\u001b[0;32mok: [worker-0]\u001b[0m\n",
      "\u001b[0;32mok: [worker-1]\u001b[0m\n",
      "\u001b[0;32mok: [worker-2]\u001b[0m\n",
      "\n",
      "TASK [worker-nodes : set_fact] *************************************************\n",
      "\u001b[0;32mok: [worker-0]\u001b[0m\n",
      "\u001b[0;32mok: [worker-1]\u001b[0m\n",
      "\u001b[0;32mok: [worker-2]\u001b[0m\n",
      "\n",
      "TASK [worker-nodes : Create the bridge network configuration file] *************\n",
      "\u001b[0;33mchanged: [worker-0]\u001b[0m\n",
      "\u001b[0;33mchanged: [worker-1]\u001b[0m\n",
      "\u001b[0;33mchanged: [worker-2]\u001b[0m\n",
      "\n",
      "TASK [worker-nodes : Create the loopback network configuration file] ***********\n",
      "\u001b[0;33mchanged: [worker-0]\u001b[0m\n",
      "\u001b[0;33mchanged: [worker-1]\u001b[0m\n",
      "\u001b[0;33mchanged: [worker-2]\u001b[0m\n",
      "\n",
      "TASK [worker-nodes : Create the containerd configuration file] *****************\n",
      "\u001b[0;33mchanged: [worker-0]\u001b[0m\n",
      "\u001b[0;33mchanged: [worker-1]\u001b[0m\n",
      "\u001b[0;33mchanged: [worker-2]\u001b[0m\n",
      "\n",
      "TASK [worker-nodes : Create the containerd.service systemd unit file] **********\n",
      "\u001b[0;33mchanged: [worker-0]\u001b[0m\n",
      "\u001b[0;33mchanged: [worker-2]\u001b[0m\n",
      "\u001b[0;33mchanged: [worker-1]\u001b[0m\n",
      "\n",
      "TASK [worker-nodes : Copy pems + config] ***************************************\n",
      "\u001b[0;33mchanged: [worker-0]\u001b[0m\n",
      "\u001b[0;33mchanged: [worker-1]\u001b[0m\n",
      "\u001b[0;33mchanged: [worker-2]\u001b[0m\n",
      "\n",
      "TASK [worker-nodes : Create the kubelet-config.yaml] ***************************\n",
      "\u001b[0;33mchanged: [worker-0]\u001b[0m\n",
      "\u001b[0;33mchanged: [worker-1]\u001b[0m\n",
      "\u001b[0;33mchanged: [worker-2]\u001b[0m\n",
      "\n",
      "TASK [worker-nodes : Create the kubelet.service file] **************************\n",
      "\u001b[0;33mchanged: [worker-0]\u001b[0m\n",
      "\u001b[0;33mchanged: [worker-1]\u001b[0m\n",
      "\u001b[0;33mchanged: [worker-2]\u001b[0m\n",
      "\n",
      "TASK [worker-nodes : Copy kubeconfig file] *************************************\n",
      "\u001b[0;33mchanged: [worker-0]\u001b[0m\n",
      "\u001b[0;33mchanged: [worker-1]\u001b[0m\n",
      "\u001b[0;33mchanged: [worker-2]\u001b[0m\n",
      "\n",
      "TASK [worker-nodes : Create the kube-proxy-config.yaml file] *******************\n",
      "\u001b[0;33mchanged: [worker-0]\u001b[0m\n",
      "\u001b[0;33mchanged: [worker-1]\u001b[0m\n",
      "\u001b[0;33mchanged: [worker-2]\u001b[0m\n",
      "\n",
      "TASK [worker-nodes : Create thekube-proxy.service file] ************************\n",
      "\u001b[0;33mchanged: [worker-1]\u001b[0m\n",
      "\u001b[0;33mchanged: [worker-2]\u001b[0m\n",
      "\u001b[0;33mchanged: [worker-0]\u001b[0m\n",
      "\n",
      "TASK [worker-nodes : Start services] *******************************************\n",
      "\u001b[0;33mchanged: [worker-1] => (item=containerd)\u001b[0m\n",
      "\u001b[0;33mchanged: [worker-0] => (item=containerd)\u001b[0m\n",
      "\u001b[0;33mchanged: [worker-2] => (item=containerd)\u001b[0m\n",
      "\u001b[0;33mchanged: [worker-0] => (item=kubelet)\u001b[0m\n",
      "\u001b[0;33mchanged: [worker-1] => (item=kubelet)\u001b[0m\n",
      "\u001b[0;33mchanged: [worker-2] => (item=kubelet)\u001b[0m\n",
      "\u001b[0;33mchanged: [worker-0] => (item=kube-proxy)\u001b[0m\n",
      "\u001b[0;33mchanged: [worker-1] => (item=kube-proxy)\u001b[0m\n",
      "\u001b[0;33mchanged: [worker-2] => (item=kube-proxy)\u001b[0m\n",
      "\n",
      "PLAY RECAP *********************************************************************\n",
      "\u001b[0;32mcontroller-0\u001b[0m               : \u001b[0;32mok=2   \u001b[0m changed=0    unreachable=0    failed=0    skipped=0    rescued=0    ignored=0   \n",
      "\u001b[0;32mcontroller-1\u001b[0m               : \u001b[0;32mok=1   \u001b[0m changed=0    unreachable=0    failed=0    skipped=0    rescued=0    ignored=0   \n",
      "\u001b[0;32mcontroller-2\u001b[0m               : \u001b[0;32mok=1   \u001b[0m changed=0    unreachable=0    failed=0    skipped=0    rescued=0    ignored=0   \n",
      "\u001b[0;33mworker-0\u001b[0m                   : \u001b[0;32mok=19  \u001b[0m \u001b[0;33mchanged=16  \u001b[0m unreachable=0    failed=0    skipped=0    rescued=0    ignored=0   \n",
      "\u001b[0;33mworker-1\u001b[0m                   : \u001b[0;32mok=19  \u001b[0m \u001b[0;33mchanged=16  \u001b[0m unreachable=0    failed=0    skipped=0    rescued=0    ignored=0   \n",
      "\u001b[0;33mworker-2\u001b[0m                   : \u001b[0;32mok=19  \u001b[0m \u001b[0;33mchanged=16  \u001b[0m unreachable=0    failed=0    skipped=0    rescued=0    ignored=0   \n",
      "\n"
     ]
    }
   ],
   "source": [
    "! ansible-playbook playbooks/bootstrap.yml --tags=worker-nodes"
   ]
  },
  {
   "cell_type": "code",
   "execution_count": 14,
   "id": "8649d879-9e77-48df-9cf2-530e3f98132c",
   "metadata": {},
   "outputs": [
    {
     "name": "stdout",
     "output_type": "stream",
     "text": [
      "\n",
      "PLAY [Install local tools] *****************************************************\n",
      "\n",
      "TASK [Gathering Facts] *********************************************************\n",
      "\u001b[0;32mok: [localhost]\u001b[0m\n",
      "\n",
      "TASK [kubectl : Configure kubectl] *********************************************\n",
      "\u001b[0;33mchanged: [localhost]\u001b[0m\n",
      "\n",
      "TASK [dns : Deploy coredns] ****************************************************\n",
      "\u001b[0;33mchanged: [localhost]\u001b[0m\n",
      "\n",
      "PLAY RECAP *********************************************************************\n",
      "\u001b[0;33mlocalhost\u001b[0m                  : \u001b[0;32mok=3   \u001b[0m \u001b[0;33mchanged=2   \u001b[0m unreachable=0    failed=0    skipped=0    rescued=0    ignored=0   \n",
      "\n"
     ]
    }
   ],
   "source": [
    "! ansible-playbook playbooks/objects.yml"
   ]
  },
  {
   "cell_type": "markdown",
   "id": "3a0988e4-305d-4fb0-84ad-d5c4aadbf93c",
   "metadata": {},
   "source": [
    "## DNS"
   ]
  },
  {
   "cell_type": "code",
   "execution_count": 15,
   "id": "fd414482-17ac-4437-b975-fbe9c7faed4a",
   "metadata": {},
   "outputs": [],
   "source": [
    "#! kubectl describe po $(kubectl get po -o jsonpath=\"{.items[0].metadata.name}\" -n kube-system) -n kube-system\n",
    "! kubectl logs $(kubectl get po -o jsonpath=\"{.items[0].metadata.name}\" -n kube-system) -n kube-system"
   ]
  },
  {
   "cell_type": "code",
   "execution_count": 16,
   "id": "835f845a-eb55-4604-8571-362290013bb5",
   "metadata": {},
   "outputs": [
    {
     "name": "stdout",
     "output_type": "stream",
     "text": [
      "pod/busybox created\n"
     ]
    }
   ],
   "source": [
    "# \n",
    "! kubectl run busybox --image=busybox:1.28 --command -- sleep 3600"
   ]
  },
  {
   "cell_type": "code",
   "execution_count": 17,
   "id": "714d3ce0-5031-4db4-91a9-e0059d5ee27b",
   "metadata": {},
   "outputs": [
    {
     "name": "stdout",
     "output_type": "stream",
     "text": [
      "NAME      READY   STATUS    RESTARTS   AGE\n",
      "busybox   0/1     Pending   0          0s\n"
     ]
    }
   ],
   "source": [
    "! kubectl get pods -l run=busybox"
   ]
  },
  {
   "cell_type": "code",
   "execution_count": 20,
   "id": "6f02e637-2326-4b2f-96e1-991f505ac1f4",
   "metadata": {},
   "outputs": [
    {
     "name": "stdout",
     "output_type": "stream",
     "text": [
      "Server:    10.32.0.10\n",
      "Address 1: 10.32.0.10\n",
      "\n",
      "nslookup: can't resolve 'kube-dns.kube-system.svc.cluster.local'\n",
      "command terminated with exit code 1\n"
     ]
    }
   ],
   "source": [
    "! kubectl exec -ti busybox -- nslookup kube-dns.kube-system.svc.cluster.local"
   ]
  },
  {
   "cell_type": "code",
   "execution_count": 56,
   "id": "c2f14a71-d140-4c04-8767-88974044fbfd",
   "metadata": {},
   "outputs": [],
   "source": [
    "## @todo: Fix DNS (see above)"
   ]
  },
  {
   "cell_type": "markdown",
   "id": "3375d326-6bb1-4f8e-a519-43b4b42f2917",
   "metadata": {},
   "source": [
    "## Smoke tests\n",
    "\n",
    "[Smoke tests](https://github.com/kelseyhightower/kubernetes-the-hard-way/blob/master/docs/13-smoke-test.md#smoke-test)\n",
    "\n",
    "### Data Encryption"
   ]
  },
  {
   "cell_type": "code",
   "execution_count": 59,
   "id": "5503d9a7-6682-4ff8-9fdb-b8001a414401",
   "metadata": {},
   "outputs": [
    {
     "name": "stdout",
     "output_type": "stream",
     "text": [
      "secret/kubernetes-the-hard-way created\n"
     ]
    }
   ],
   "source": [
    "# Create a generic secret\n",
    "! kubectl create secret generic kubernetes-the-hard-way \\\n",
    "  --from-literal=\"mykey=mydata\""
   ]
  },
  {
   "cell_type": "code",
   "execution_count": 62,
   "id": "aa6bf2de-8f83-405f-8b7e-803a90df4ac8",
   "metadata": {},
   "outputs": [
    {
     "name": "stdout",
     "output_type": "stream",
     "text": [
      "00000000  2f 72 65 67 69 73 74 72  79 2f 73 65 63 72 65 74  |/registry/secret|\n",
      "00000010  73 2f 64 65 66 61 75 6c  74 2f 6b 75 62 65 72 6e  |s/default/kubern|\n",
      "00000020  65 74 65 73 2d 74 68 65  2d 68 61 72 64 2d 77 61  |etes-the-hard-wa|\n",
      "00000030  79 0a 6b 38 73 3a 65 6e  63 3a 61 65 73 63 62 63  |y.k8s:enc:aescbc|\n",
      "00000040  3a 76 31 3a 6b 65 79 31  3a 0c eb 75 2e 4e 2a 0f  |:v1:key1:..u.N*.|\n",
      "00000050  57 8b 2b d4 bb 39 bc 80  4a 53 4d 91 88 02 02 26  |W.+..9..JSM....&|\n",
      "00000060  45 7f 83 1a 01 be 23 1a  e4 a5 37 ff 4c d5 79 05  |E.....#...7.L.y.|\n",
      "00000070  86 aa 00 ae 0a 50 40 7f  4b 61 58 c6 28 c8 08 87  |.....P@.KaX.(...|\n",
      "00000080  25 dc f6 72 11 23 cb 70  df 37 5a dd e6 90 8f ea  |%..r.#.p.7Z.....|\n",
      "00000090  48 74 f2 a7 3d 7e 63 09  4e 4e e3 7e dc fc 57 26  |Ht..=~c.NN.~..W&|\n",
      "000000a0  5f 4b 93 40 56 7c 3d b9  62 68 0a cc c6 44 50 84  |_K.@V|=.bh...DP.|\n",
      "000000b0  00 54 a3 cb da 91 68 59  14 03 ee 60 88 aa 92 8a  |.T....hY...`....|\n",
      "000000c0  4a 38 7a c7 e1 1e 4b 57  0a fb 58 ce e6 d9 56 24  |J8z...KW..X...V$|\n",
      "000000d0  5d dc 15 c1 ad 52 d7 20  c0 08 87 c8 6f 5b 6a c6  |]....R. ....o[j.|\n",
      "000000e0  50 ff bf 37 94 e4 3a d9  cc e6 7a 63 46 91 97 93  |P..7..:...zcF...|\n",
      "000000f0  ba 6b 82 aa eb 27 c9 84  ad a7 bc 97 15 8f 86 12  |.k...'..........|\n",
      "00000100  1c 0e 99 49 b8 15 b6 e3  59 ef b1 24 67 7a de 12  |...I....Y..$gz..|\n",
      "00000110  5a 5d c2 d7 60 d9 8e 4d  53 ca cf 4e 3d 24 99 81  |Z]..`..MS..N=$..|\n",
      "00000120  6b 3b ab f9 10 02 c8 0f  a0 28 1c d5 2d 35 20 3e  |k;.......(..-5 >|\n",
      "00000130  0a 1d a1 64 14 04 0c 5a  b3 cd c0 0a d8 c1 fa 66  |...d...Z.......f|\n",
      "00000140  42 95 cd 63 cc 49 43 96  ea bb 4e 73 6c a0 b8 83  |B..c.IC...Nsl...|\n",
      "00000150  e0 55 ed 87 54 25 bf 2b  71 0a                    |.U..T%.+q.|\n",
      "0000015a\n"
     ]
    }
   ],
   "source": [
    "# Print a hexdump of the kubernetes-the-hard-way secret stored in etcd\n",
    "! ssh -q controller-0 \\\n",
    "  \"sudo ETCDCTL_API=3 etcdctl get \\\n",
    "  --endpoints=https://127.0.0.1:2379 \\\n",
    "  --cacert=/etc/etcd/ca.pem \\\n",
    "  --cert=/etc/etcd/kubernetes.pem \\\n",
    "  --key=/etc/etcd/kubernetes-key.pem\\\n",
    "  /registry/secrets/default/kubernetes-the-hard-way | hexdump -C\""
   ]
  },
  {
   "cell_type": "markdown",
   "id": "ba938a18-9d94-41af-b3e4-0df85187a538",
   "metadata": {},
   "source": [
    "The etcd key should be prefixed with k8s:enc:aescbc:v1:key1, which indicates the aescbc provider was used to encrypt the data with the key1 encryption key."
   ]
  },
  {
   "cell_type": "markdown",
   "id": "c25ed43e-ff42-4e72-a8d9-65da7ac313fc",
   "metadata": {},
   "source": [
    "### Deployments"
   ]
  },
  {
   "cell_type": "code",
   "execution_count": 64,
   "id": "931eb24f-58b6-4e63-bd83-0331ab5911e2",
   "metadata": {},
   "outputs": [
    {
     "name": "stdout",
     "output_type": "stream",
     "text": [
      "deployment.apps/nginx created\n"
     ]
    }
   ],
   "source": [
    "! kubectl create deployment nginx --image=nginx"
   ]
  },
  {
   "cell_type": "code",
   "execution_count": 65,
   "id": "ee6d83c1-4813-4c87-9e35-aad25ded9964",
   "metadata": {},
   "outputs": [
    {
     "name": "stdout",
     "output_type": "stream",
     "text": [
      "NAME                     READY   STATUS    RESTARTS   AGE\n",
      "nginx-6799fc88d8-tj7xq   1/1     Running   0          8s\n"
     ]
    }
   ],
   "source": [
    "! kubectl get pods -l app=nginx"
   ]
  },
  {
   "cell_type": "code",
   "execution_count": 66,
   "id": "1329cc9c-f8f9-4740-9405-c08e02be433b",
   "metadata": {},
   "outputs": [],
   "source": [
    "# Port forwarding can't be tested within this Jupyter notebook because background processes are not allowed\n",
    "# But I could succesfully test it outside of Jupyter\n",
    "# kubectl port-forward $POD_NAME 8080:80"
   ]
  },
  {
   "cell_type": "code",
   "execution_count": 75,
   "id": "ec943a0f-66c2-42d4-b0cd-8ef60e0c7fda",
   "metadata": {},
   "outputs": [
    {
     "name": "stdout",
     "output_type": "stream",
     "text": [
      "127.0.0.1 - - [23/Jun/2022:08:39:04 +0000] \"GET / HTTP/1.1\" 200 615 \"-\" \"curl/7.79.1\" \"-\"\n"
     ]
    }
   ],
   "source": [
    "# Checking the logs\n",
    "! kubectl logs nginx-6799fc88d8-tj7xq | tail -1"
   ]
  },
  {
   "cell_type": "code",
   "execution_count": 76,
   "id": "45b4560e-e636-4814-880f-5bcbef80caf9",
   "metadata": {},
   "outputs": [
    {
     "name": "stdout",
     "output_type": "stream",
     "text": [
      "nginx version: nginx/1.23.0\n"
     ]
    }
   ],
   "source": [
    "# Running a command in the pod\n",
    "! kubectl exec -ti nginx-6799fc88d8-tj7xq -- nginx -v"
   ]
  },
  {
   "cell_type": "markdown",
   "id": "79ad0b92-0fd7-47ba-baa9-900c44855736",
   "metadata": {},
   "source": [
    "### Services"
   ]
  },
  {
   "cell_type": "code",
   "execution_count": 77,
   "id": "b06ab31b-374d-4d10-b97f-1a4a4404b5a1",
   "metadata": {},
   "outputs": [
    {
     "name": "stdout",
     "output_type": "stream",
     "text": [
      "service/nginx exposed\n"
     ]
    }
   ],
   "source": [
    "! kubectl expose deployment nginx --port 80 --type NodePort"
   ]
  },
  {
   "cell_type": "code",
   "execution_count": 78,
   "id": "63b97c94-1495-4337-8c3d-c04a4f34df0e",
   "metadata": {},
   "outputs": [
    {
     "name": "stdout",
     "output_type": "stream",
     "text": [
      "32744"
     ]
    }
   ],
   "source": [
    "! kubectl get svc nginx --output=jsonpath='{range .spec.ports[0]}{.nodePort}'"
   ]
  },
  {
   "cell_type": "code",
   "execution_count": 98,
   "id": "8bebcf3b-0470-447a-952e-32e255d3673e",
   "metadata": {},
   "outputs": [
    {
     "name": "stdout",
     "output_type": "stream",
     "text": [
      "HTTP/1.1 200 OK\n",
      "Server: nginx/1.23.0\n",
      "Date: Thu, 23 Jun 2022 08:53:54 GMT\n",
      "Content-Type: text/html\n",
      "Content-Length: 615\n",
      "Last-Modified: Tue, 21 Jun 2022 14:25:37 GMT\n",
      "Connection: keep-alive\n",
      "ETag: \"62b1d4e1-267\"\n",
      "Accept-Ranges: bytes\n",
      "\n"
     ]
    }
   ],
   "source": [
    "# Using curl from controller-0 to acces the public IP of worker-1 where the nginx pod runs\n",
    "! ssh -q controller-0 \"curl -Is http://worker-1:32744\""
   ]
  },
  {
   "cell_type": "code",
   "execution_count": null,
   "id": "846924d3-db63-4d47-ae44-74fa5b53269f",
   "metadata": {},
   "outputs": [],
   "source": []
  }
 ],
 "metadata": {
  "kernelspec": {
   "display_name": "Python 3 (ipykernel)",
   "language": "python",
   "name": "python3"
  },
  "language_info": {
   "codemirror_mode": {
    "name": "ipython",
    "version": 3
   },
   "file_extension": ".py",
   "mimetype": "text/x-python",
   "name": "python",
   "nbconvert_exporter": "python",
   "pygments_lexer": "ipython3",
   "version": "3.10.4"
  }
 },
 "nbformat": 4,
 "nbformat_minor": 5
}
